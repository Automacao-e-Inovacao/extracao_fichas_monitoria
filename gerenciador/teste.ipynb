{
 "cells": [
  {
   "cell_type": "code",
   "execution_count": 11,
   "metadata": {},
   "outputs": [],
   "source": [
    "import os\n",
    "import datetime\n",
    "import time\n"
   ]
  },
  {
   "cell_type": "code",
   "execution_count": 31,
   "metadata": {},
   "outputs": [
    {
     "name": "stdout",
     "output_type": "stream",
     "text": [
      "2023-11-20 16:17:08.300365\n"
     ]
    }
   ],
   "source": [
    "multiplicador = 30\n",
    "data_atual = datetime.datetime.now()\n",
    "numero_meses = 6\n",
    "print(data_atual)"
   ]
  },
  {
   "cell_type": "code",
   "execution_count": 33,
   "metadata": {},
   "outputs": [
    {
     "name": "stdout",
     "output_type": "stream",
     "text": [
      "2023-11-19 16:17:08.300365\n",
      "2023-10-21 16:17:08.300365\n",
      "2023-09-21 16:17:08.300365\n",
      "2023-08-22 16:17:08.300365\n",
      "2023-07-23 16:17:08.300365\n",
      "2023-06-23 16:17:08.300365\n"
     ]
    }
   ],
   "source": [
    "for numero_mes_anterior in range(0, numero_meses, 1):\n",
    "    if numero_mes_anterior == 0:\n",
    "        numero_mes_anterior = 1\n",
    "    else:\n",
    "        numero_mes_anterior = numero_mes_anterior * multiplicador\n",
    "    data_extracao = data_atual - datetime.timedelta(days=numero_mes_anterior)\n",
    "    print(data_extracao)"
   ]
  }
 ],
 "metadata": {
  "kernelspec": {
   "display_name": "venv",
   "language": "python",
   "name": "python3"
  },
  "language_info": {
   "codemirror_mode": {
    "name": "ipython",
    "version": 3
   },
   "file_extension": ".py",
   "mimetype": "text/x-python",
   "name": "python",
   "nbconvert_exporter": "python",
   "pygments_lexer": "ipython3",
   "version": "3.10.11"
  }
 },
 "nbformat": 4,
 "nbformat_minor": 2
}
