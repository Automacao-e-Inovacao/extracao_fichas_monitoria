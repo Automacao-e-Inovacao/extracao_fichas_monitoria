{
 "cells": [
  {
   "cell_type": "code",
   "execution_count": 1,
   "metadata": {},
   "outputs": [],
   "source": [
    "import sys\n",
    "import os\n",
    "\n",
    "caminho_relativo = os.path.abspath('')\n",
    "caminho_relativo = os.path.dirname(caminho_relativo)\n",
    "sys.path.append(caminho_relativo)\n",
    "ordem_das_etapas = ['static', 'insercao_datamart', 'extracao_site', 'venv']\n",
    "for etapa in ordem_das_etapas:\n",
    "    sys.path.append(os.path.join(caminho_relativo, etapa))"
   ]
  },
  {
   "cell_type": "code",
   "execution_count": 2,
   "metadata": {},
   "outputs": [],
   "source": [
    "import datetime"
   ]
  },
  {
   "cell_type": "code",
   "execution_count": 4,
   "metadata": {},
   "outputs": [],
   "source": [
    "from static.registrar_consultar import registers\n",
    "inst_register = registers()"
   ]
  },
  {
   "cell_type": "code",
   "execution_count": 3,
   "metadata": {},
   "outputs": [],
   "source": [
    "\n",
    "import pandas\n",
    "\n",
    "inst_register = registers()\n",
    "\n",
    "fichas = inst_register.consultar_notas('select * from monitoria.fichas')\n",
    "colunas = inst_register.consultar_notas('select * from monitoria.colunas')\n",
    "registros = inst_register.consultar_notas('select * from monitoria.registros')\n",
    "registro_coluna = inst_register.consultar_notas('select * from monitoria.registro_coluna')\n",
    "fichas = pandas.DataFrame(fichas)\n",
    "colunas = pandas.DataFrame(colunas)\n",
    "registros = pandas.DataFrame(registros)\n",
    "registro_coluna = pandas.DataFrame(registro_coluna)"
   ]
  },
  {
   "cell_type": "code",
   "execution_count": 4,
   "metadata": {},
   "outputs": [],
   "source": [
    "caminho_fichas_excel = r'\\\\55aspdcarq01\\55atende\\Administrativo\\06 - Gerência Contact Center\\03 - Call Center Sao Luis\\02 - Monitoria de Qualidade\\10.BASES'\n",
    "data_atual = datetime.date.today() - datetime.timedelta(days=1)\n",
    "lista_de_arquivos = os.listdir(caminho_fichas_excel)\n",
    "lista_de_arquivos = [os.path.join(caminho_fichas_excel, linha) for linha in lista_de_arquivos if linha.endswith('.xls') and linha.startswith('{:02d}-{:04d}'.format(data_atual.month,data_atual.year))]\n"
   ]
  },
  {
   "cell_type": "code",
   "execution_count": 5,
   "metadata": {},
   "outputs": [],
   "source": [
    "for ficha in lista_de_arquivos:\n",
    "    split_ficha = ficha.split('\\\\')\n",
    "    ficha = split_ficha[len(split_ficha) - 1]\n",
    "    ficha = ficha.replace('.xls', '')\n",
    "    ficha = ficha.replace('{:02d}-{:04d}'.format(data_atual.month,data_atual.year), '')\n",
    "    ficha = ficha.strip()\n",
    "    resultado_busca = fichas.loc[fichas['nome_ficha'] == ficha]\n",
    "    if resultado_busca.empty:\n",
    "        inst_register.registro_sucesso(\n",
    "            dicionario= {\n",
    "                'nome_ficha': ficha\n",
    "            }, tabela='monitoria.fichas'\n",
    "            )"
   ]
  },
  {
   "cell_type": "code",
   "execution_count": 6,
   "metadata": {},
   "outputs": [],
   "source": [
    "ficha_fk = 2"
   ]
  },
  {
   "cell_type": "code",
   "execution_count": 7,
   "metadata": {},
   "outputs": [],
   "source": [
    "# for ficha in lista_de_arquivos:\n",
    "ficha_dataframe = pandas.read_html(lista_de_arquivos[0], keep_default_na=False, decimal=',', thousands='.')\n",
    "if len(ficha_dataframe) != 1:\n",
    "    raise AssertionError('Pandas leu o excel mas o tamanho de planilha foi diferente de 1')\n",
    "\n",
    "ficha_dataframe = ficha_dataframe[0]\n",
    "\n",
    "colunas_excel = ficha_dataframe.columns.values.tolist()\n",
    "\n",
    "for coluna in colunas_excel:\n",
    "    resultado_busca = colunas.loc[(colunas['ficha_fk'] == ficha_fk) & (colunas['nome_coluna'] == coluna)]\n",
    "    if resultado_busca.empty:\n",
    "        inst_register.registro_sucesso(\n",
    "        dicionario= {\n",
    "            'nome_coluna': coluna,\n",
    "            'ficha_fk': ficha_fk\n",
    "        }, tabela='monitoria.colunas'\n",
    "        )"
   ]
  },
  {
   "cell_type": "code",
   "execution_count": 8,
   "metadata": {},
   "outputs": [],
   "source": [
    "# for ficha in lista_de_arquivos:\n",
    "\n",
    "df_somente_num_monitoria = ficha_dataframe['NUM_MONITORIA']\n",
    "\n",
    "for valor_num_monitoria in df_somente_num_monitoria.values.tolist():\n",
    "    resultado_busca = registros.loc[(registros['ficha_fk'] == ficha_fk) & (registros['num_monitoria'] == valor_num_monitoria)]\n",
    "    if resultado_busca.empty:\n",
    "        inst_register.registro_sucesso(\n",
    "        dicionario= {\n",
    "            'num_monitoria': valor_num_monitoria,\n",
    "            'ficha_fk': ficha_fk\n",
    "        }, tabela='monitoria.registros'\n",
    "        )"
   ]
  },
  {
   "cell_type": "code",
   "execution_count": 9,
   "metadata": {},
   "outputs": [],
   "source": [
    "dataframe_sem_num_monitoria = ficha_dataframe.drop('NUM_MONITORIA', axis=1)"
   ]
  },
  {
   "cell_type": "code",
   "execution_count": 10,
   "metadata": {},
   "outputs": [],
   "source": [
    "colunas = inst_register.consultar_notas('select * from monitoria.colunas')\n",
    "registros = inst_register.consultar_notas('select * from monitoria.registros')\n",
    "registro_coluna = inst_register.consultar_notas('select * from monitoria.registro_coluna')"
   ]
  },
  {
   "cell_type": "code",
   "execution_count": 11,
   "metadata": {},
   "outputs": [],
   "source": [
    "colunas = pandas.DataFrame(colunas)\n",
    "registros = pandas.DataFrame(registros)\n",
    "registro_coluna = pandas.DataFrame(registro_coluna)"
   ]
  },
  {
   "cell_type": "code",
   "execution_count": 12,
   "metadata": {},
   "outputs": [
    {
     "ename": "ZeroDivisionError",
     "evalue": "division by zero",
     "output_type": "error",
     "traceback": [
      "\u001b[1;31m---------------------------------------------------------------------------\u001b[0m",
      "\u001b[1;31mZeroDivisionError\u001b[0m                         Traceback (most recent call last)",
      "Cell \u001b[1;32mIn[12], line 1\u001b[0m\n\u001b[1;32m----> 1\u001b[0m \u001b[39m1\u001b[39;49m\u001b[39m/\u001b[39;49m\u001b[39m0\u001b[39;49m\n",
      "\u001b[1;31mZeroDivisionError\u001b[0m: division by zero"
     ]
    }
   ],
   "source": [
    "1/0"
   ]
  },
  {
   "cell_type": "code",
   "execution_count": 15,
   "metadata": {},
   "outputs": [
    {
     "ename": "KeyError",
     "evalue": "'id'",
     "output_type": "error",
     "traceback": [
      "\u001b[1;31m---------------------------------------------------------------------------\u001b[0m",
      "\u001b[1;31mKeyError\u001b[0m                                  Traceback (most recent call last)",
      "File \u001b[1;32mc:\\Users\\tate5507392\\Documents\\projetos\\extracao_fichas_monitoria\\venv\\lib\\site-packages\\pandas\\core\\indexes\\base.py:3652\u001b[0m, in \u001b[0;36mIndex.get_loc\u001b[1;34m(self, key)\u001b[0m\n\u001b[0;32m   3651\u001b[0m \u001b[39mtry\u001b[39;00m:\n\u001b[1;32m-> 3652\u001b[0m     \u001b[39mreturn\u001b[39;00m \u001b[39mself\u001b[39;49m\u001b[39m.\u001b[39;49m_engine\u001b[39m.\u001b[39;49mget_loc(casted_key)\n\u001b[0;32m   3653\u001b[0m \u001b[39mexcept\u001b[39;00m \u001b[39mKeyError\u001b[39;00m \u001b[39mas\u001b[39;00m err:\n",
      "File \u001b[1;32mc:\\Users\\tate5507392\\Documents\\projetos\\extracao_fichas_monitoria\\venv\\lib\\site-packages\\pandas\\_libs\\index.pyx:147\u001b[0m, in \u001b[0;36mpandas._libs.index.IndexEngine.get_loc\u001b[1;34m()\u001b[0m\n",
      "File \u001b[1;32mc:\\Users\\tate5507392\\Documents\\projetos\\extracao_fichas_monitoria\\venv\\lib\\site-packages\\pandas\\_libs\\index.pyx:176\u001b[0m, in \u001b[0;36mpandas._libs.index.IndexEngine.get_loc\u001b[1;34m()\u001b[0m\n",
      "File \u001b[1;32mpandas\\_libs\\hashtable_class_helper.pxi:7080\u001b[0m, in \u001b[0;36mpandas._libs.hashtable.PyObjectHashTable.get_item\u001b[1;34m()\u001b[0m\n",
      "File \u001b[1;32mpandas\\_libs\\hashtable_class_helper.pxi:7088\u001b[0m, in \u001b[0;36mpandas._libs.hashtable.PyObjectHashTable.get_item\u001b[1;34m()\u001b[0m\n",
      "\u001b[1;31mKeyError\u001b[0m: 'id'",
      "\nThe above exception was the direct cause of the following exception:\n",
      "\u001b[1;31mKeyError\u001b[0m                                  Traceback (most recent call last)",
      "Cell \u001b[1;32mIn[15], line 5\u001b[0m\n\u001b[0;32m      3\u001b[0m id_coluna \u001b[39m=\u001b[39m id_coluna[\u001b[39m'\u001b[39m\u001b[39mid\u001b[39m\u001b[39m'\u001b[39m]\u001b[39m.\u001b[39mvalues\u001b[39m.\u001b[39mtolist()[\u001b[39m0\u001b[39m]\n\u001b[0;32m      4\u001b[0m \u001b[39mfor\u001b[39;00m index_linha, coluna_loop \u001b[39min\u001b[39;00m \u001b[39menumerate\u001b[39m(df_registro_coluna\u001b[39m.\u001b[39mvalues\u001b[39m.\u001b[39mtolist()):\n\u001b[1;32m----> 5\u001b[0m     id_registro \u001b[39m=\u001b[39m ficha_dataframe\u001b[39m.\u001b[39;49mloc[index_linha][\u001b[39m'\u001b[39;49m\u001b[39mid\u001b[39;49m\u001b[39m'\u001b[39;49m]\n",
      "File \u001b[1;32mc:\\Users\\tate5507392\\Documents\\projetos\\extracao_fichas_monitoria\\venv\\lib\\site-packages\\pandas\\core\\series.py:1007\u001b[0m, in \u001b[0;36mSeries.__getitem__\u001b[1;34m(self, key)\u001b[0m\n\u001b[0;32m   1004\u001b[0m     \u001b[39mreturn\u001b[39;00m \u001b[39mself\u001b[39m\u001b[39m.\u001b[39m_values[key]\n\u001b[0;32m   1006\u001b[0m \u001b[39melif\u001b[39;00m key_is_scalar:\n\u001b[1;32m-> 1007\u001b[0m     \u001b[39mreturn\u001b[39;00m \u001b[39mself\u001b[39;49m\u001b[39m.\u001b[39;49m_get_value(key)\n\u001b[0;32m   1009\u001b[0m \u001b[39mif\u001b[39;00m is_hashable(key):\n\u001b[0;32m   1010\u001b[0m     \u001b[39m# Otherwise index.get_value will raise InvalidIndexError\u001b[39;00m\n\u001b[0;32m   1011\u001b[0m     \u001b[39mtry\u001b[39;00m:\n\u001b[0;32m   1012\u001b[0m         \u001b[39m# For labels that don't resolve as scalars like tuples and frozensets\u001b[39;00m\n",
      "File \u001b[1;32mc:\\Users\\tate5507392\\Documents\\projetos\\extracao_fichas_monitoria\\venv\\lib\\site-packages\\pandas\\core\\series.py:1116\u001b[0m, in \u001b[0;36mSeries._get_value\u001b[1;34m(self, label, takeable)\u001b[0m\n\u001b[0;32m   1113\u001b[0m     \u001b[39mreturn\u001b[39;00m \u001b[39mself\u001b[39m\u001b[39m.\u001b[39m_values[label]\n\u001b[0;32m   1115\u001b[0m \u001b[39m# Similar to Index.get_value, but we do not fall back to positional\u001b[39;00m\n\u001b[1;32m-> 1116\u001b[0m loc \u001b[39m=\u001b[39m \u001b[39mself\u001b[39;49m\u001b[39m.\u001b[39;49mindex\u001b[39m.\u001b[39;49mget_loc(label)\n\u001b[0;32m   1118\u001b[0m \u001b[39mif\u001b[39;00m is_integer(loc):\n\u001b[0;32m   1119\u001b[0m     \u001b[39mreturn\u001b[39;00m \u001b[39mself\u001b[39m\u001b[39m.\u001b[39m_values[loc]\n",
      "File \u001b[1;32mc:\\Users\\tate5507392\\Documents\\projetos\\extracao_fichas_monitoria\\venv\\lib\\site-packages\\pandas\\core\\indexes\\base.py:3654\u001b[0m, in \u001b[0;36mIndex.get_loc\u001b[1;34m(self, key)\u001b[0m\n\u001b[0;32m   3652\u001b[0m     \u001b[39mreturn\u001b[39;00m \u001b[39mself\u001b[39m\u001b[39m.\u001b[39m_engine\u001b[39m.\u001b[39mget_loc(casted_key)\n\u001b[0;32m   3653\u001b[0m \u001b[39mexcept\u001b[39;00m \u001b[39mKeyError\u001b[39;00m \u001b[39mas\u001b[39;00m err:\n\u001b[1;32m-> 3654\u001b[0m     \u001b[39mraise\u001b[39;00m \u001b[39mKeyError\u001b[39;00m(key) \u001b[39mfrom\u001b[39;00m \u001b[39merr\u001b[39;00m\n\u001b[0;32m   3655\u001b[0m \u001b[39mexcept\u001b[39;00m \u001b[39mTypeError\u001b[39;00m:\n\u001b[0;32m   3656\u001b[0m     \u001b[39m# If we have a listlike key, _check_indexing_error will raise\u001b[39;00m\n\u001b[0;32m   3657\u001b[0m     \u001b[39m#  InvalidIndexError. Otherwise we fall through and re-raise\u001b[39;00m\n\u001b[0;32m   3658\u001b[0m     \u001b[39m#  the TypeError.\u001b[39;00m\n\u001b[0;32m   3659\u001b[0m     \u001b[39mself\u001b[39m\u001b[39m.\u001b[39m_check_indexing_error(key)\n",
      "\u001b[1;31mKeyError\u001b[0m: 'id'"
     ]
    }
   ],
   "source": [
    "for nome_coluna, df_registro_coluna in dataframe_sem_num_monitoria.items():\n",
    "    id_coluna = colunas.loc[(colunas['nome_coluna'] == nome_coluna) & (colunas['ficha_fk'] == ficha_fk)]\n",
    "    id_coluna = id_coluna['id'].values.tolist()[0]\n",
    "    for index_linha, coluna_loop in enumerate(df_registro_coluna.values.tolist()):\n",
    "        id_registro = ficha_dataframe.loc[index_linha]['id']"
   ]
  }
 ],
 "metadata": {
  "kernelspec": {
   "display_name": "venv",
   "language": "python",
   "name": "python3"
  },
  "language_info": {
   "codemirror_mode": {
    "name": "ipython",
    "version": 3
   },
   "file_extension": ".py",
   "mimetype": "text/x-python",
   "name": "python",
   "nbconvert_exporter": "python",
   "pygments_lexer": "ipython3",
   "version": "3.10.11"
  },
  "orig_nbformat": 4
 },
 "nbformat": 4,
 "nbformat_minor": 2
}
